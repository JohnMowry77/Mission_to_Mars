{
 "cells": [
  {
   "cell_type": "code",
   "execution_count": 19,
   "metadata": {},
   "outputs": [
    {
     "ename": "SyntaxError",
     "evalue": "invalid syntax (<ipython-input-19-1fdb0b984066>, line 6)",
     "output_type": "error",
     "traceback": [
      "\u001b[0;36m  File \u001b[0;32m\"<ipython-input-19-1fdb0b984066>\"\u001b[0;36m, line \u001b[0;32m6\u001b[0m\n\u001b[0;31m    from webdriver_man\u001b[0m\n\u001b[0m                      ^\u001b[0m\n\u001b[0;31mSyntaxError\u001b[0m\u001b[0;31m:\u001b[0m invalid syntax\n"
     ]
    }
   ],
   "source": [
    "#import requests\n",
    "\n",
    "from bs4 import BeautifulSoup\n",
    "from splinter import Browser\n",
    "import requests\n",
    "from webdriver_man\n",
    "ager.chrome import ChromeDriverManager"
   ]
  },
  {
   "cell_type": "code",
   "execution_count": 20,
   "metadata": {},
   "outputs": [
    {
     "name": "stderr",
     "output_type": "stream",
     "text": [
      "[WDM] - ====== WebDriver manager ======\n",
      "[WDM] - Current google-chrome version is 89.0.4389\n",
      "[WDM] - Get LATEST driver version for 89.0.4389\n"
     ]
    },
    {
     "name": "stdout",
     "output_type": "stream",
     "text": [
      "\n",
      "\n"
     ]
    },
    {
     "name": "stderr",
     "output_type": "stream",
     "text": [
      "[WDM] - Driver [/Users/johnmowry/.wdm/drivers/chromedriver/mac64/89.0.4389.23/chromedriver] found in cache\n"
     ]
    },
    {
     "name": "stdout",
     "output_type": "stream",
     "text": [
      "Mars Now\n",
      "NASA's Perseverance Mars Rover Mission Honors Navajo Language\n",
      "Perseverance Rover's SuperCam Science Instrument Delivers First Results\n",
      "NASA's Perseverance Drives on Mars' Terrain for First Time\n",
      "Media Telecon Materials - March 5, 2021\n",
      "NASA Awards Mars Ascent Propulsion System Contract for Sample Return\n",
      "NASA to Provide Update on Perseverance ‘Firsts' Since Mars Landing \n",
      "Testing Proves Its Worth With Successful Mars Parachute Deployment\n",
      "NASA's Perseverance Rover Gives High-Definition Panoramic View of Landing Site\n",
      "Nearly 11 Million Names of Earthlings are on Mars Perseverance\n",
      "NASA's Mars Perseverance Rover Provides Front-Row Seat to Landing, First Audio Recording of Red Planet \n",
      "NASA to Reveal New Video, Images From Mars Perseverance Rover\n",
      "NASA's Mars Helicopter Reports In \n",
      "NASA's Perseverance Rover Sends Sneak Peek of Mars Landing\n",
      "Touchdown! NASA's Mars Perseverance Rover Safely Lands on Red Planet\n",
      "Searching for Life in NASA's Perseverance Mars Samples\n",
      "The Mars Relay Network Connects Us to NASA's Martian Explorers\n",
      "NASA's Next Mars Rover Is Ready for the Most Precise Landing Yet\n",
      "Sensors Prepare to Collect Data as Perseverance Enters Mars' Atmosphere\n",
      "InSight Is Meeting the Challenge of Winter on Dusty Mars\n",
      "NASA Invites Public to Share Thrill of Mars Perseverance Rover Landing\n",
      "Tricky Terrain: Helping to Assure a Safe Rover Landing\n",
      "Where Should Future Astronauts Land on Mars? Follow the Water\n",
      "NASA's Perseverance Pays Off Back Home\n",
      "Could the Surface of Phobos Reveal Secrets of the Martian Past?\n",
      "NASA's MAVEN Continues to Advance Mars Science and Telecommunications Relay Efforts\n",
      "NASA's Perseverance Rover 22 Days From Mars Landing\n",
      "6 Things to Know About NASA's Mars Helicopter on Its Way to Mars\n",
      "NASA to Host Virtual Briefing on February Perseverance Mars Rover Landing\n",
      "NASA InSight's ‘Mole' Ends Its Journey on Mars\n",
      "Mars 2020 Perseverance Rover to Capture Sounds From the Red Planet\n",
      "NASA's Curiosity Rover Reaches Its 3,000th Day on Mars\n",
      "Celebrate the Perseverance Rover Landing With NASA's Student Challenge\n",
      "NASA Extends Exploration for Two Planetary Science Missions\n",
      "7 Things to Know About the NASA Rover About to Land on Mars\n",
      "A Martian Roundtrip: NASA's Perseverance Rover Sample Tubes\n",
      "NASA Moves Forward With Campaign to Return Mars Samples to Earth\n",
      "3 Things We've Learned From NASA's Mars InSight \n",
      "From JPL's Mailroom to Mars and Beyond\n",
      "5 Hidden Gems Are Riding Aboard NASA's Perseverance Rover\n",
      "MOXIE Could Help Future Rockets Launch Off Mars\n",
      "\n",
      "\n",
      "\n",
      "\n",
      "\n",
      "\n",
      "\n",
      "\n",
      "\n",
      "\n",
      "\n",
      "\n",
      "\n",
      "\n",
      "\n",
      "\n",
      "\n",
      "\n",
      "\n",
      "\n",
      "\n",
      "\n",
      "\n",
      "\n"
     ]
    }
   ],
   "source": [
    "# scrape the [NASA Mars News Site] (https://mars.nasa.gov/news/)\n",
    "news_path='https://mars.nasa.gov/news/'\n",
    "\n",
    "#use request to pull html\n",
    "mars_news= requests.get(news_path)#.json #returns a response# return json / dictionary (in python)\n",
    "#html=mars_news.html\n",
    "\n",
    "##below is splinter\n",
    "#create a driver\n",
    "executable_path={'executable_path': ChromeDriverManager().install()}\n",
    "browser=Browser('chrome', **executable_path, headless=False)\n",
    "\n",
    "browser.visit(news_path)\n",
    "html=browser.html\n",
    "#use bs4 to parse outand collect the latest News Title and Paragraph Text. \n",
    "soup=BeautifulSoup(html, 'html.parser') # return a soup object\n",
    "\n",
    "#soup.something(specify the tag and class name) => strings\n",
    "news_p=soup.find(\"div\", class_=\"article_teaser_body\")\n",
    "#news_title=soup.find_all('a')\n",
    "#news_p\n",
    "#news_title=news_title_div.look_for('a').text\n",
    "news_title=soup.findAll(\"div\", class_=\"content_title\")\n",
    "news_title\n",
    "#news_paragraph_div=soup.look_for(specify the tag and class name)\n",
    "#soup.look_for(specify the tag & class name)\n",
    "\n",
    "#append title results to news_titles empty list.\n",
    "news_titles=[]\n",
    "for title in news_title:\n",
    "    children = list(title.children) \n",
    "    if children:\n",
    "        first = children[0] #children is anchor within div class_='content_title)'\n",
    "        print(getattr(first, \"text\")  # anchor has text\n",
    "              if hasattr(first, \"text\")\n",
    "                  else first)\n",
    "        news_titles.append((getattr(first, \"text\")  # anchor has text\n",
    "              if hasattr(first, \"text\")\n",
    "                  else first))\n",
    "        \n",
    "#soup.find_all('a')\n",
    "\n",
    "# [<a class=\"sister\" href=\"http://example.com/elsie\" id=\"link1\">Elsie</a>,\n",
    "#  <a class=\"sister\" href=\"http://example.com/lacie\" id=\"link2\">Lacie</a>,"
   ]
  },
  {
   "cell_type": "code",
   "execution_count": 21,
   "metadata": {},
   "outputs": [],
   "source": [
    "#list(news_title[0].children)\n",
    "#news_titles[1:41]"
   ]
  },
  {
   "cell_type": "code",
   "execution_count": 22,
   "metadata": {},
   "outputs": [
    {
     "name": "stdout",
     "output_type": "stream",
     "text": [
      "Working with the Navajo Nation, the rover team has named features on Mars with words from the Navajo language.\n",
      "Data from the powerful science tool includes sounds of its laser zapping a rock in order to test what it’s made of.\n",
      "The first trek of the agency’s largest, most advanced rover yet on the Red Planet marks a major milestone before science operations get under way.\n",
      "Mission team members are participating in a virtual teleconference to discuss milestones achieved so far since the Feb. 18 landing and those to come.\n",
      "The award moves NASA and ESA a step closer to realizing Mars Sample Return, an ambitious planetary exploration program that will build upon decades of science, knowledge, and experience.\n",
      "Mission team members are participating in a virtual teleconference to discuss milestones achieved so far since the Feb. 18 landing and those to come.\n",
      "The giant canopy that helped land Perseverance on Mars was tested here on Earth at NASA’s Wallops Flight Facility in Virginia.\n",
      "A 360-degree panorama taken by the rover’s Mastcam-Z instrument will be discussed during a public video chat this Thursday.\n",
      "When the Perseverance rover safely touched down on the Martian surface, inside Jezero Crater, on Feb. 18, 2021, it was also a safe landing for the nearly 11 million names on board.\n",
      "The agency’s newest rover captured first-of-its kind footage of its Feb. 18 touchdown and has recorded audio of Martian wind.\n",
      "\n",
      "\n"
     ]
    }
   ],
   "source": [
    "# news_paragraph_div=soup.look_for(specify the tag and class name)       \n",
    "# soup.something(specify the tag and class name) => strings\n",
    "news_p=soup.findAll(\"div\", class_=\"article_teaser_body\")\n",
    "\n",
    "news_p      \n",
    "#append teaser results to news_paragraphs empty list.    \n",
    "news_paragraph=[]\n",
    "for teaser in news_p[:10]:\n",
    "    teaser=list(teaser.children)\n",
    "    if teaser:\n",
    "        first=teaser[0]\n",
    "        print(getattr(first, \"text\")\n",
    "              if hasattr(first, \"text\")\n",
    "                  else first)\n",
    "        \n",
    "        news_paragraph.append((getattr(first, \"text\")  # anchor has text\n",
    "              if hasattr(first, \"text\")\n",
    "                  else first))"
   ]
  },
  {
   "cell_type": "code",
   "execution_count": 23,
   "metadata": {},
   "outputs": [],
   "source": [
    "#news_paragraph # a list, use index to pull "
   ]
  },
  {
   "cell_type": "code",
   "execution_count": 31,
   "metadata": {},
   "outputs": [
    {
     "data": {
      "text/plain": [
       "<img alt=\"JPL Logo\" height=\"72\" src=\"/_nuxt/img/logo-tribrand-color.8f95c3b.svg\" width=\"324\"/>"
      ]
     },
     "execution_count": 31,
     "metadata": {},
     "output_type": "execute_result"
    }
   ],
   "source": [
    "#use splinter to navigate the site f\n",
    "featured_image_url= 'https://www.jpl.nasa.gov/spaceimages/?search=&category=Mars'\n",
    "browser.visit(featured_image_url)\n",
    "\n",
    "# find the image url for the current Featured Mars Image:\n",
    "# make sure to find the impact url to the full size .jpg image\n",
    "# save a complete url string to this image\n",
    "\n",
    "#browser.find_by_css('.BaseImage').click()\n",
    "\n",
    "browser.find_by_css('.BaseImage').click()\n",
    "#then grab the html at the new page\n",
    "html=browser.html\n",
    "soup=BeautifulSoup(html, 'html.parser')\n",
    "image_tag=soup.find('img', class_='')\n",
    "image_tag\n",
    "#get the href property of the image_tag\n",
    "#image_url=\n"
   ]
  },
  {
   "cell_type": "markdown",
   "metadata": {},
   "source": [
    "#use request to pull html\n",
    "requests #returns a response\n",
    "#data=response.json # return json / dictionary (in python)\n",
    "html=response.html"
   ]
  }
 ],
 "metadata": {
  "kernelspec": {
   "display_name": "Python 3",
   "language": "python",
   "name": "python3"
  },
  "language_info": {
   "codemirror_mode": {
    "name": "ipython",
    "version": 3
   },
   "file_extension": ".py",
   "mimetype": "text/x-python",
   "name": "python",
   "nbconvert_exporter": "python",
   "pygments_lexer": "ipython3",
   "version": "3.8.3"
  }
 },
 "nbformat": 4,
 "nbformat_minor": 4
}
