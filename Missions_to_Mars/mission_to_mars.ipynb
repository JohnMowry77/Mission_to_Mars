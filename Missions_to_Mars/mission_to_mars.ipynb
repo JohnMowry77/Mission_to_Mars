{
 "cells": [
  {
   "cell_type": "code",
   "execution_count": 3,
   "metadata": {},
   "outputs": [],
   "source": [
    "#import requests\n",
    "\n",
    "from bs4 import BeautifulSoup\n",
    "from splinter import Browser\n",
    "import requests\n",
    "from webdriver_manager.chrome import ChromeDriverManager"
   ]
  },
  {
   "cell_type": "code",
   "execution_count": 4,
   "metadata": {},
   "outputs": [
    {
     "name": "stderr",
     "output_type": "stream",
     "text": [
      "[WDM] - ====== WebDriver manager ======\n",
      "[WDM] - Current google-chrome version is 89.0.4389\n",
      "[WDM] - Get LATEST driver version for 89.0.4389\n",
      "[WDM] - Driver [/Users/johnmowry/.wdm/drivers/chromedriver/mac64/89.0.4389.23/chromedriver] found in cache\n"
     ]
    },
    {
     "name": "stdout",
     "output_type": "stream",
     "text": [
      "\n",
      "\n"
     ]
    },
    {
     "data": {
      "text/plain": [
       "<div class=\"article_teaser_body\">Working with the Navajo Nation, the rover team has named features on Mars with words from the Navajo language.</div>"
      ]
     },
     "execution_count": 4,
     "metadata": {},
     "output_type": "execute_result"
    }
   ],
   "source": [
    "# scrape the [NASA Mars News Site] (https://mars.nasa.gov/news/)\n",
    "news_path='https://mars.nasa.gov/news/'\n",
    "\n",
    "#use request to pull html\n",
    "mars_news= requests.get(news_path)#.json #returns a response# return json / dictionary (in python)\n",
    "#html=mars_news.html\n",
    "\n",
    "\n",
    "\n",
    "##below is splinter\n",
    "#create a driver\n",
    "executable_path={'executable_path': ChromeDriverManager().install()}\n",
    "browser=Browser('chrome', **executable_path, headless=False)\n",
    "\n",
    "browser.visit(news_path)\n",
    "html=browser.html\n",
    "#use bs4 to parse outand collect the latest News Title and Paragraph Text. \n",
    "soup=BeautifulSoup(html, 'html.parser') # return a soup object\n",
    "\n",
    "#soup.something(specify the tag and class name) => strings\n",
    "#news_paragraph_div=soup.look_for(specify the tag and class name)\n",
    "news_p=soup.find(\"div\", class_=\"article_teaser_body\")\n",
    "#news_title=soup.find_all('a')\n",
    "news_p\n",
    "\n",
    "#news_title=news_title_div.look_for('a').text \n",
    "\n",
    "#soup.look_for(specify the tag & class name)\n",
    "\n",
    "#soup.find_all('a')\n",
    "\n",
    "# [<a class=\"sister\" href=\"http://example.com/elsie\" id=\"link1\">Elsie</a>,\n",
    "#  <a class=\"sister\" href=\"http://example.com/lacie\" id=\"link2\">Lacie</a>,\n",
    "#  <a class=\"sister\" href=\"http://example.com/tillie\" id=\"link3\">Tillie</a>]"
   ]
  },
  {
   "cell_type": "code",
   "execution_count": null,
   "metadata": {},
   "outputs": [],
   "source": [
    "#use request to pull html\n",
    "requests #returns a response\n",
    "#data=response.json # return json / dictionary (in python)\n",
    "html=response.html"
   ]
  }
 ],
 "metadata": {
  "kernelspec": {
   "display_name": "Python 3",
   "language": "python",
   "name": "python3"
  },
  "language_info": {
   "codemirror_mode": {
    "name": "ipython",
    "version": 3
   },
   "file_extension": ".py",
   "mimetype": "text/x-python",
   "name": "python",
   "nbconvert_exporter": "python",
   "pygments_lexer": "ipython3",
   "version": "3.8.3"
  }
 },
 "nbformat": 4,
 "nbformat_minor": 4
}
