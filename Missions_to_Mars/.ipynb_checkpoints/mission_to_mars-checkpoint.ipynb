{
 "cells": [
  {
   "cell_type": "code",
   "execution_count": 1,
   "metadata": {},
   "outputs": [],
   "source": [
    "#import requests\n",
    "\n",
    "from bs4 import BeautifulSoup\n",
    "from splinter import Browser\n",
    "import requests\n",
    "from webdriver_manager.chrome import ChromeDriverManager"
   ]
  },
  {
   "cell_type": "code",
   "execution_count": 2,
   "metadata": {},
   "outputs": [
    {
     "name": "stderr",
     "output_type": "stream",
     "text": [
      "[WDM] - ====== WebDriver manager ======\n"
     ]
    },
    {
     "name": "stdout",
     "output_type": "stream",
     "text": [
      "\n",
      "\n"
     ]
    },
    {
     "name": "stderr",
     "output_type": "stream",
     "text": [
      "[WDM] - Current google-chrome version is 89.0.4389\n",
      "[WDM] - Get LATEST driver version for 89.0.4389\n",
      "[WDM] - Driver [/Users/johnmowry/.wdm/drivers/chromedriver/mac64/89.0.4389.23/chromedriver] found in cache\n"
     ]
    },
    {
     "name": "stdout",
     "output_type": "stream",
     "text": [
      "Mars Now\n",
      "NASA's Perseverance Mars Rover Mission Honors Navajo Language\n",
      "Perseverance Rover's SuperCam Science Instrument Delivers First Results\n",
      "NASA's Perseverance Drives on Mars' Terrain for First Time\n",
      "Media Telecon Materials - March 5, 2021\n",
      "NASA Awards Mars Ascent Propulsion System Contract for Sample Return\n",
      "NASA to Provide Update on Perseverance ‘Firsts' Since Mars Landing \n",
      "Testing Proves Its Worth With Successful Mars Parachute Deployment\n",
      "NASA's Perseverance Rover Gives High-Definition Panoramic View of Landing Site\n",
      "Nearly 11 Million Names of Earthlings are on Mars Perseverance\n",
      "NASA's Mars Perseverance Rover Provides Front-Row Seat to Landing, First Audio Recording of Red Planet \n",
      "NASA to Reveal New Video, Images From Mars Perseverance Rover\n",
      "NASA's Mars Helicopter Reports In \n",
      "NASA's Perseverance Rover Sends Sneak Peek of Mars Landing\n",
      "Touchdown! NASA's Mars Perseverance Rover Safely Lands on Red Planet\n",
      "Searching for Life in NASA's Perseverance Mars Samples\n",
      "The Mars Relay Network Connects Us to NASA's Martian Explorers\n",
      "NASA's Next Mars Rover Is Ready for the Most Precise Landing Yet\n",
      "Sensors Prepare to Collect Data as Perseverance Enters Mars' Atmosphere\n",
      "InSight Is Meeting the Challenge of Winter on Dusty Mars\n",
      "NASA Invites Public to Share Thrill of Mars Perseverance Rover Landing\n",
      "Tricky Terrain: Helping to Assure a Safe Rover Landing\n",
      "Where Should Future Astronauts Land on Mars? Follow the Water\n",
      "NASA's Perseverance Pays Off Back Home\n",
      "Could the Surface of Phobos Reveal Secrets of the Martian Past?\n",
      "NASA's MAVEN Continues to Advance Mars Science and Telecommunications Relay Efforts\n",
      "NASA's Perseverance Rover 22 Days From Mars Landing\n",
      "6 Things to Know About NASA's Mars Helicopter on Its Way to Mars\n",
      "NASA to Host Virtual Briefing on February Perseverance Mars Rover Landing\n",
      "NASA InSight's ‘Mole' Ends Its Journey on Mars\n",
      "Mars 2020 Perseverance Rover to Capture Sounds From the Red Planet\n",
      "NASA's Curiosity Rover Reaches Its 3,000th Day on Mars\n",
      "Celebrate the Perseverance Rover Landing With NASA's Student Challenge\n",
      "NASA Extends Exploration for Two Planetary Science Missions\n",
      "7 Things to Know About the NASA Rover About to Land on Mars\n",
      "A Martian Roundtrip: NASA's Perseverance Rover Sample Tubes\n",
      "NASA Moves Forward With Campaign to Return Mars Samples to Earth\n",
      "3 Things We've Learned From NASA's Mars InSight \n",
      "From JPL's Mailroom to Mars and Beyond\n",
      "5 Hidden Gems Are Riding Aboard NASA's Perseverance Rover\n",
      "MOXIE Could Help Future Rockets Launch Off Mars\n",
      "\n",
      "\n",
      "\n",
      "\n",
      "\n",
      "\n",
      "\n",
      "\n",
      "\n",
      "\n",
      "\n",
      "\n",
      "\n",
      "\n",
      "\n",
      "\n",
      "\n",
      "\n",
      "\n",
      "\n",
      "\n",
      "\n",
      "\n",
      "\n"
     ]
    }
   ],
   "source": [
    "# scrape the [NASA Mars News Site] (https://mars.nasa.gov/news/)\n",
    "news_path='https://mars.nasa.gov/news/'\n",
    "\n",
    "#use request to pull html\n",
    "mars_news= requests.get(news_path)#.json #returns a response# return json / dictionary (in python)\n",
    "#html=mars_news.html\n",
    "\n",
    "##below is splinter\n",
    "#create a driver\n",
    "executable_path={'executable_path': ChromeDriverManager().install()}\n",
    "browser=Browser('chrome', **executable_path, headless=False)\n",
    "\n",
    "browser.visit(news_path)\n",
    "html=browser.html\n",
    "#use bs4 to parse outand collect the latest News Title and Paragraph Text. \n",
    "soup=BeautifulSoup(html, 'html.parser') # return a soup object\n",
    "\n",
    "#soup.something(specify the tag and class name) => strings\n",
    "#news_p=soup.find(\"div\", class_=\"article_teaser_body\")\n",
    "#news_title=soup.find_all('a')\n",
    "#news_p\n",
    "#news_title=news_title_div.look_for('a').text\n",
    "news_title=soup.findAll(\"div\", class_=\"content_title\")\n",
    "news_title\n",
    "#news_paragraph_div=soup.look_for(specify the tag and class name)\n",
    "#soup.look_for(specify the tag & class name)\n",
    "\n",
    "#append title results to news_titles empty list.\n",
    "news_titles=[]\n",
    "for title in news_title:\n",
    "    children = list(title.children) \n",
    "    if children:\n",
    "        first = children[0] #children is anchor within div class_='content_title)'\n",
    "        print(getattr(first, \"text\")  # anchor has text\n",
    "              if hasattr(first, \"text\")\n",
    "                  else first)\n",
    "        news_titles.append((getattr(first, \"text\")  # anchor has text\n",
    "              if hasattr(first, \"text\")\n",
    "                  else first))\n",
    "        \n",
    "#soup.find_all('a')\n",
    "\n",
    "# [<a class=\"sister\" href=\"http://example.com/elsie\" id=\"link1\">Elsie</a>,\n",
    "#  <a class=\"sister\" href=\"http://example.com/lacie\" id=\"link2\">Lacie</a>,"
   ]
  },
  {
   "cell_type": "code",
   "execution_count": 3,
   "metadata": {},
   "outputs": [
    {
     "name": "stdout",
     "output_type": "stream",
     "text": [
      "Mars NowNASA's Perseverance Mars Rover Mission Honors Navajo LanguagePerseverance Rover's SuperCam Science Instrument Delivers First ResultsNASA's Perseverance Drives on Mars' Terrain for First TimeMedia Telecon Materials - March 5, 2021NASA Awards Mars Ascent Propulsion System Contract for Sample ReturnNASA to Provide Update on Perseverance ‘Firsts' Since Mars Landing Testing Proves Its Worth With Successful Mars Parachute DeploymentNASA's Perseverance Rover Gives High-Definition Panoramic View of Landing SiteNearly 11 Million Names of Earthlings are on Mars PerseveranceNASA's Mars Perseverance Rover Provides Front-Row Seat to Landing, First Audio Recording of Red Planet NASA to Reveal New Video, Images From Mars Perseverance RoverNASA's Mars Helicopter Reports In NASA's Perseverance Rover Sends Sneak Peek of Mars LandingTouchdown! NASA's Mars Perseverance Rover Safely Lands on Red PlanetSearching for Life in NASA's Perseverance Mars SamplesThe Mars Relay Network Connects Us to NASA's Martian ExplorersNASA's Next Mars Rover Is Ready for the Most Precise Landing YetSensors Prepare to Collect Data as Perseverance Enters Mars' AtmosphereInSight Is Meeting the Challenge of Winter on Dusty MarsNASA Invites Public to Share Thrill of Mars Perseverance Rover LandingTricky Terrain: Helping to Assure a Safe Rover LandingWhere Should Future Astronauts Land on Mars? Follow the WaterNASA's Perseverance Pays Off Back HomeCould the Surface of Phobos Reveal Secrets of the Martian Past?NASA's MAVEN Continues to Advance Mars Science and Telecommunications Relay EffortsNASA's Perseverance Rover 22 Days From Mars Landing6 Things to Know About NASA's Mars Helicopter on Its Way to MarsNASA to Host Virtual Briefing on February Perseverance Mars Rover LandingNASA InSight's ‘Mole' Ends Its Journey on MarsMars 2020 Perseverance Rover to Capture Sounds From the Red PlanetNASA's Curiosity Rover Reaches Its 3,000th Day on MarsCelebrate the Perseverance Rover Landing With NASA's Student ChallengeNASA Extends Exploration for Two Planetary Science Missions7 Things to Know About the NASA Rover About to Land on MarsA Martian Roundtrip: NASA's Perseverance Rover Sample TubesNASA Moves Forward With Campaign to Return Mars Samples to Earth3 Things We've Learned From NASA's Mars InSight From JPL's Mailroom to Mars and Beyond5 Hidden Gems Are Riding Aboard NASA's Perseverance RoverMOXIE Could Help Future Rockets Launch Off Mars\n",
      "\n",
      "\n",
      "\n",
      "\n",
      "\n",
      "\n",
      "\n",
      "\n",
      "\n",
      "\n",
      "\n",
      "\n"
     ]
    }
   ],
   "source": [
    "#list(news_title[0].children)\n",
    "#news_titles[1:41]\n",
    "#python allows us to convert a list to string\n",
    "news_titles\n",
    "def listToString(s):\n",
    "    str1 = \"\"\n",
    "    #return string\n",
    "    return (str1.join(news_titles))\n",
    "print(listToString(news_titles))"
   ]
  },
  {
   "cell_type": "code",
   "execution_count": 4,
   "metadata": {},
   "outputs": [
    {
     "name": "stdout",
     "output_type": "stream",
     "text": [
      "Working with the Navajo Nation, the rover team has named features on Mars with words from the Navajo language.\n",
      "Data from the powerful science tool includes sounds of its laser zapping a rock in order to test what it’s made of.\n",
      "The first trek of the agency’s largest, most advanced rover yet on the Red Planet marks a major milestone before science operations get under way.\n",
      "Mission team members are participating in a virtual teleconference to discuss milestones achieved so far since the Feb. 18 landing and those to come.\n",
      "The award moves NASA and ESA a step closer to realizing Mars Sample Return, an ambitious planetary exploration program that will build upon decades of science, knowledge, and experience.\n",
      "Mission team members are participating in a virtual teleconference to discuss milestones achieved so far since the Feb. 18 landing and those to come.\n",
      "The giant canopy that helped land Perseverance on Mars was tested here on Earth at NASA’s Wallops Flight Facility in Virginia.\n",
      "A 360-degree panorama taken by the rover’s Mastcam-Z instrument will be discussed during a public video chat this Thursday.\n",
      "When the Perseverance rover safely touched down on the Martian surface, inside Jezero Crater, on Feb. 18, 2021, it was also a safe landing for the nearly 11 million names on board.\n",
      "The agency’s newest rover captured first-of-its kind footage of its Feb. 18 touchdown and has recorded audio of Martian wind.\n",
      "\n",
      "\n"
     ]
    }
   ],
   "source": [
    "# news_paragraph_div=soup.look_for(specify the tag and class name)       \n",
    "# soup.something(specify the tag and class name) => strings\n",
    "news_p=soup.findAll(\"div\", class_=\"article_teaser_body\")\n",
    "\n",
    "news_p      \n",
    "#append teaser results to news_paragraphs empty list.    \n",
    "news_paragraph=[]\n",
    "for teaser in news_p[:10]:\n",
    "    teaser=list(teaser.children)\n",
    "    if teaser:\n",
    "        first=teaser[0]\n",
    "        print(getattr(first, \"text\")\n",
    "              if hasattr(first, \"text\")\n",
    "                  else first)\n",
    "        \n",
    "        news_paragraph.append((getattr(first, \"text\")  # anchor has text\n",
    "              if hasattr(first, \"text\")\n",
    "                  else first))"
   ]
  },
  {
   "cell_type": "code",
   "execution_count": 5,
   "metadata": {},
   "outputs": [
    {
     "name": "stdout",
     "output_type": "stream",
     "text": [
      "Working with the Navajo Nation, the rover team has named features on Mars with words from the Navajo language.Data from the powerful science tool includes sounds of its laser zapping a rock in order to test what it’s made of.The first trek of the agency’s largest, most advanced rover yet on the Red Planet marks a major milestone before science operations get under way.Mission team members are participating in a virtual teleconference to discuss milestones achieved so far since the Feb. 18 landing and those to come.The award moves NASA and ESA a step closer to realizing Mars Sample Return, an ambitious planetary exploration program that will build upon decades of science, knowledge, and experience.Mission team members are participating in a virtual teleconference to discuss milestones achieved so far since the Feb. 18 landing and those to come.The giant canopy that helped land Perseverance on Mars was tested here on Earth at NASA’s Wallops Flight Facility in Virginia.A 360-degree panorama taken by the rover’s Mastcam-Z instrument will be discussed during a public video chat this Thursday.When the Perseverance rover safely touched down on the Martian surface, inside Jezero Crater, on Feb. 18, 2021, it was also a safe landing for the nearly 11 million names on board.The agency’s newest rover captured first-of-its kind footage of its Feb. 18 touchdown and has recorded audio of Martian wind.\n",
      "\n",
      "\n"
     ]
    }
   ],
   "source": [
    "news_paragraph\n",
    "# a list, use index to pull \n",
    "\n",
    "def listToString(s):\n",
    "    str1 = \"\"\n",
    "    #return string\n",
    "    return (str1.join(news_paragraph))\n",
    "print(listToString(news_paragraph))"
   ]
  },
  {
   "cell_type": "code",
   "execution_count": 6,
   "metadata": {},
   "outputs": [
    {
     "name": "stderr",
     "output_type": "stream",
     "text": [
      "[WDM] - ====== WebDriver manager ======\n",
      "[WDM] - Current google-chrome version is 89.0.4389\n",
      "[WDM] - Get LATEST driver version for 89.0.4389\n"
     ]
    },
    {
     "name": "stdout",
     "output_type": "stream",
     "text": [
      "\n",
      "\n"
     ]
    },
    {
     "name": "stderr",
     "output_type": "stream",
     "text": [
      "[WDM] - Driver [/Users/johnmowry/.wdm/drivers/chromedriver/mac64/89.0.4389.23/chromedriver] found in cache\n"
     ]
    }
   ],
   "source": [
    "#use splinter to navigate the site f\n",
    "#featured_image_url= 'https://www.jpl.nasa.gov/spaceimages/?search=&category=Mars'\n",
    "featured_image_url=\"https://data-class-jpl-space.s3.amazonaws.com/JPL_Space/index.html\"\n",
    "#featured_image_url='https://www.jpl.nasa.gov/spaceimages/images/largesize/PIA16225_hires.jpg'\n",
    "\n",
    "executable_path={'executable_path': ChromeDriverManager().install()}\n",
    "browser=Browser('chrome', **executable_path, headless=False)\n",
    "\n",
    "browser.visit(featured_image_url)\n",
    "html=browser.html\n",
    "\n",
    "\n",
    "# find the image url for the current Featured Mars Image:\n",
    "# make sure to find the impact url to the full size .jpg image\n",
    "# save a complete url string to this image\n",
    "\n",
    "#browser.find_by_css('.BaseImage').click()\n",
    "\n",
    "mars_img=browser.find_by_css('h1').click()\n",
    "\n",
    "#then grab the html at the new page\n",
    "html=browser.html\n",
    "soup=BeautifulSoup(html, 'html.parser')\n",
    "image_tag=soup.find('img', class_='thumbimg')\n",
    "image_tag\n",
    "\n",
    "##FOLLOW UP NEEDED\n",
    "#get the href property of the image_tag\n",
    "#image_url='href of the above'\n",
    "\n"
   ]
  },
  {
   "cell_type": "code",
   "execution_count": 7,
   "metadata": {},
   "outputs": [],
   "source": [
    "browser.quit()"
   ]
  },
  {
   "cell_type": "markdown",
   "metadata": {},
   "source": [
    "#use request to pull html\n",
    "requests #returns a response\n",
    "#data=response.json # return json / dictionary (in python)\n",
    "html=response.html"
   ]
  },
  {
   "cell_type": "code",
   "execution_count": 8,
   "metadata": {},
   "outputs": [],
   "source": [
    "import pandas as pd\n",
    "#use pandas to scrape the table containing facts about the planent including Diameter, Mass, etc.\n"
   ]
  },
  {
   "cell_type": "code",
   "execution_count": 9,
   "metadata": {},
   "outputs": [],
   "source": [
    "url='https://space-facts.com/mars/'"
   ]
  },
  {
   "cell_type": "code",
   "execution_count": 10,
   "metadata": {},
   "outputs": [
    {
     "data": {
      "text/plain": [
       "[                      0                              1\n",
       " 0  Equatorial Diameter:                       6,792 km\n",
       " 1       Polar Diameter:                       6,752 km\n",
       " 2                 Mass:  6.39 × 10^23 kg (0.11 Earths)\n",
       " 3                Moons:            2 (Phobos & Deimos)\n",
       " 4       Orbit Distance:       227,943,824 km (1.38 AU)\n",
       " 5         Orbit Period:           687 days (1.9 years)\n",
       " 6  Surface Temperature:                   -87 to -5 °C\n",
       " 7         First Record:              2nd millennium BC\n",
       " 8          Recorded By:           Egyptian astronomers,\n",
       "   Mars - Earth Comparison             Mars            Earth\n",
       " 0               Diameter:         6,779 km        12,742 km\n",
       " 1                   Mass:  6.39 × 10^23 kg  5.97 × 10^24 kg\n",
       " 2                  Moons:                2                1\n",
       " 3      Distance from Sun:   227,943,824 km   149,598,262 km\n",
       " 4         Length of Year:   687 Earth days      365.24 days\n",
       " 5            Temperature:     -87 to -5 °C      -88 to 58°C,\n",
       "                       0                              1\n",
       " 0  Equatorial Diameter:                       6,792 km\n",
       " 1       Polar Diameter:                       6,752 km\n",
       " 2                 Mass:  6.39 × 10^23 kg (0.11 Earths)\n",
       " 3                Moons:            2 (Phobos & Deimos)\n",
       " 4       Orbit Distance:       227,943,824 km (1.38 AU)\n",
       " 5         Orbit Period:           687 days (1.9 years)\n",
       " 6  Surface Temperature:                   -87 to -5 °C\n",
       " 7         First Record:              2nd millennium BC\n",
       " 8          Recorded By:           Egyptian astronomers]"
      ]
     },
     "execution_count": 10,
     "metadata": {},
     "output_type": "execute_result"
    }
   ],
   "source": [
    "#returns a list of the table \n",
    "tables = pd.read_html(url)\n",
    "tables"
   ]
  },
  {
   "cell_type": "code",
   "execution_count": 11,
   "metadata": {},
   "outputs": [
    {
     "data": {
      "text/html": [
       "<div>\n",
       "<style scoped>\n",
       "    .dataframe tbody tr th:only-of-type {\n",
       "        vertical-align: middle;\n",
       "    }\n",
       "\n",
       "    .dataframe tbody tr th {\n",
       "        vertical-align: top;\n",
       "    }\n",
       "\n",
       "    .dataframe thead th {\n",
       "        text-align: right;\n",
       "    }\n",
       "</style>\n",
       "<table border=\"1\" class=\"dataframe\">\n",
       "  <thead>\n",
       "    <tr style=\"text-align: right;\">\n",
       "      <th></th>\n",
       "      <th>0</th>\n",
       "      <th>1</th>\n",
       "    </tr>\n",
       "  </thead>\n",
       "  <tbody>\n",
       "    <tr>\n",
       "      <th>0</th>\n",
       "      <td>Equatorial Diameter:</td>\n",
       "      <td>6,792 km</td>\n",
       "    </tr>\n",
       "    <tr>\n",
       "      <th>1</th>\n",
       "      <td>Polar Diameter:</td>\n",
       "      <td>6,752 km</td>\n",
       "    </tr>\n",
       "    <tr>\n",
       "      <th>2</th>\n",
       "      <td>Mass:</td>\n",
       "      <td>6.39 × 10^23 kg (0.11 Earths)</td>\n",
       "    </tr>\n",
       "    <tr>\n",
       "      <th>3</th>\n",
       "      <td>Moons:</td>\n",
       "      <td>2 (Phobos &amp; Deimos)</td>\n",
       "    </tr>\n",
       "    <tr>\n",
       "      <th>4</th>\n",
       "      <td>Orbit Distance:</td>\n",
       "      <td>227,943,824 km (1.38 AU)</td>\n",
       "    </tr>\n",
       "  </tbody>\n",
       "</table>\n",
       "</div>"
      ],
      "text/plain": [
       "                      0                              1\n",
       "0  Equatorial Diameter:                       6,792 km\n",
       "1       Polar Diameter:                       6,752 km\n",
       "2                 Mass:  6.39 × 10^23 kg (0.11 Earths)\n",
       "3                Moons:            2 (Phobos & Deimos)\n",
       "4       Orbit Distance:       227,943,824 km (1.38 AU)"
      ]
     },
     "execution_count": 11,
     "metadata": {},
     "output_type": "execute_result"
    }
   ],
   "source": [
    "# We can slice off any of those dataframes that we want using normal indexing\n",
    "mars_facts=tables[0]\n",
    "mars_facts.head()"
   ]
  },
  {
   "cell_type": "code",
   "execution_count": 12,
   "metadata": {},
   "outputs": [
    {
     "data": {
      "text/html": [
       "<div>\n",
       "<style scoped>\n",
       "    .dataframe tbody tr th:only-of-type {\n",
       "        vertical-align: middle;\n",
       "    }\n",
       "\n",
       "    .dataframe tbody tr th {\n",
       "        vertical-align: top;\n",
       "    }\n",
       "\n",
       "    .dataframe thead th {\n",
       "        text-align: right;\n",
       "    }\n",
       "</style>\n",
       "<table border=\"1\" class=\"dataframe\">\n",
       "  <thead>\n",
       "    <tr style=\"text-align: right;\">\n",
       "      <th></th>\n",
       "      <th>Mars-Earth Comparison</th>\n",
       "      <th>Mars</th>\n",
       "    </tr>\n",
       "  </thead>\n",
       "  <tbody>\n",
       "    <tr>\n",
       "      <th>0</th>\n",
       "      <td>Equatorial Diameter:</td>\n",
       "      <td>6,792 km</td>\n",
       "    </tr>\n",
       "    <tr>\n",
       "      <th>1</th>\n",
       "      <td>Polar Diameter:</td>\n",
       "      <td>6,752 km</td>\n",
       "    </tr>\n",
       "    <tr>\n",
       "      <th>2</th>\n",
       "      <td>Mass:</td>\n",
       "      <td>6.39 × 10^23 kg (0.11 Earths)</td>\n",
       "    </tr>\n",
       "    <tr>\n",
       "      <th>3</th>\n",
       "      <td>Moons:</td>\n",
       "      <td>2 (Phobos &amp; Deimos)</td>\n",
       "    </tr>\n",
       "    <tr>\n",
       "      <th>4</th>\n",
       "      <td>Orbit Distance:</td>\n",
       "      <td>227,943,824 km (1.38 AU)</td>\n",
       "    </tr>\n",
       "    <tr>\n",
       "      <th>5</th>\n",
       "      <td>Orbit Period:</td>\n",
       "      <td>687 days (1.9 years)</td>\n",
       "    </tr>\n",
       "    <tr>\n",
       "      <th>6</th>\n",
       "      <td>Surface Temperature:</td>\n",
       "      <td>-87 to -5 °C</td>\n",
       "    </tr>\n",
       "    <tr>\n",
       "      <th>7</th>\n",
       "      <td>First Record:</td>\n",
       "      <td>2nd millennium BC</td>\n",
       "    </tr>\n",
       "    <tr>\n",
       "      <th>8</th>\n",
       "      <td>Recorded By:</td>\n",
       "      <td>Egyptian astronomers</td>\n",
       "    </tr>\n",
       "  </tbody>\n",
       "</table>\n",
       "</div>"
      ],
      "text/plain": [
       "  Mars-Earth Comparison                           Mars\n",
       "0  Equatorial Diameter:                       6,792 km\n",
       "1       Polar Diameter:                       6,752 km\n",
       "2                 Mass:  6.39 × 10^23 kg (0.11 Earths)\n",
       "3                Moons:            2 (Phobos & Deimos)\n",
       "4       Orbit Distance:       227,943,824 km (1.38 AU)\n",
       "5         Orbit Period:           687 days (1.9 years)\n",
       "6  Surface Temperature:                   -87 to -5 °C\n",
       "7         First Record:              2nd millennium BC\n",
       "8          Recorded By:           Egyptian astronomers"
      ]
     },
     "execution_count": 12,
     "metadata": {},
     "output_type": "execute_result"
    }
   ],
   "source": [
    "#rename columns\n",
    "# should earth be shown?\n",
    "mars_facts=mars_facts.rename(columns=({0: \"Mars-Earth Comparison\", 1: \"Mars\"}))\n",
    "mars_facts"
   ]
  },
  {
   "cell_type": "code",
   "execution_count": 20,
   "metadata": {},
   "outputs": [
    {
     "data": {
      "text/plain": [
       "'<table border=\"1\" class=\"dataframe\">\\n  <thead>\\n    <tr style=\"text-align: right;\">\\n      <th></th>\\n      <th>Mars-Earth Comparison</th>\\n      <th>Mars</th>\\n    </tr>\\n  </thead>\\n  <tbody>\\n    <tr>\\n      <th>0</th>\\n      <td>Equatorial Diameter:</td>\\n      <td>6,792 km</td>\\n    </tr>\\n    <tr>\\n      <th>1</th>\\n      <td>Polar Diameter:</td>\\n      <td>6,752 km</td>\\n    </tr>\\n    <tr>\\n      <th>2</th>\\n      <td>Mass:</td>\\n      <td>6.39 × 10^23 kg (0.11 Earths)</td>\\n    </tr>\\n    <tr>\\n      <th>3</th>\\n      <td>Moons:</td>\\n      <td>2 (Phobos &amp; Deimos)</td>\\n    </tr>\\n    <tr>\\n      <th>4</th>\\n      <td>Orbit Distance:</td>\\n      <td>227,943,824 km (1.38 AU)</td>\\n    </tr>\\n    <tr>\\n      <th>5</th>\\n      <td>Orbit Period:</td>\\n      <td>687 days (1.9 years)</td>\\n    </tr>\\n    <tr>\\n      <th>6</th>\\n      <td>Surface Temperature:</td>\\n      <td>-87 to -5 °C</td>\\n    </tr>\\n    <tr>\\n      <th>7</th>\\n      <td>First Record:</td>\\n      <td>2nd millennium BC</td>\\n    </tr>\\n    <tr>\\n      <th>8</th>\\n      <td>Recorded By:</td>\\n      <td>Egyptian astronomers</td>\\n    </tr>\\n  </tbody>\\n</table>'"
      ]
     },
     "execution_count": 20,
     "metadata": {},
     "output_type": "execute_result"
    }
   ],
   "source": [
    "mars_facts.to_html()"
   ]
  },
  {
   "cell_type": "code",
   "execution_count": null,
   "metadata": {},
   "outputs": [],
   "source": [
    "# table_html_strings='<table border=\"1\" class=\"dataframe\">\n",
    "#   <thead>\n",
    "#     <tr style=\"text-align: right;\">\n",
    "#       <th></th>\n",
    "#       <th>Mars-Earth Comparison</th>\n",
    "#       <th>Mars</th>\n",
    "#     </tr>\n",
    "#   </thead>\n",
    "#   <tbody>\n",
    "#     <tr>\n",
    "#       <th>0</th>\n",
    "#       <td>Equatorial Diameter:</td>\n",
    "#       <td>6,792 km</td>\n",
    "#     </tr>\n",
    "#     <tr>\n",
    "#       <th>1</th>\n",
    "#       <td>Polar Diameter:</td>\n",
    "#       <td>6,752 km</td>\n",
    "#     </tr>\n",
    "#     <tr>\n",
    "#       <th>2</th>\n",
    "#       <td>Mass:</td>\n",
    "#       <td>6.39 × 10^23 kg (0.11 Earths)</td>\n",
    "#     </tr>\n",
    "#     <tr>\n",
    "#       <th>3</th>\n",
    "#       <td>Moons:</td>\n",
    "#       <td>2 (Phobos &amp; Deimos)</td>\n",
    "#     </tr>\n",
    "#     <tr>\n",
    "#       <th>4</th>\n",
    "#       <td>Orbit Distance:</td>\n",
    "#       <td>227,943,824 km (1.38 AU)</td>\n",
    "#     </tr>\n",
    "#     <tr>\n",
    "#       <th>5</th>\n",
    "#       <td>Orbit Period:</td>\n",
    "#       <td>687 days (1.9 years)</td>\n",
    "#     </tr>\n",
    "#     <tr>\n",
    "#       <th>6</th>\n",
    "#       <td>Surface Temperature:</td>\n",
    "#       <td>-87 to -5 °C</td>\n",
    "#     </tr>\n",
    "#     <tr>\n",
    "#       <th>7</th>\n",
    "#       <td>First Record:</td>\n",
    "#       <td>2nd millennium BC</td>\n",
    "#     </tr>\n",
    "#     <tr>\n",
    "#       <th>8</th>\n",
    "#       <td>Recorded By:</td>\n",
    "#       <td>Egyptian astronomers</td>\n",
    "#     </tr>\n",
    "#   </tbody>\n",
    "# </table>'\n"
   ]
  },
  {
   "cell_type": "code",
   "execution_count": 16,
   "metadata": {},
   "outputs": [],
   "source": [
    "import pymongo\n",
    "from pymongo import MongoClient"
   ]
  },
  {
   "cell_type": "code",
   "execution_count": 21,
   "metadata": {},
   "outputs": [
    {
     "ename": "InvalidDocument",
     "evalue": "cannot encode object:   Mars-Earth Comparison                           Mars\n0  Equatorial Diameter:                       6,792 km\n1       Polar Diameter:                       6,752 km\n2                 Mass:  6.39 × 10^23 kg (0.11 Earths)\n3                Moons:            2 (Phobos & Deimos)\n4       Orbit Distance:       227,943,824 km (1.38 AU)\n5         Orbit Period:           687 days (1.9 years)\n6  Surface Temperature:                   -87 to -5 °C\n7         First Record:              2nd millennium BC\n8          Recorded By:           Egyptian astronomers, of type: <class 'pandas.core.frame.DataFrame'>",
     "output_type": "error",
     "traceback": [
      "\u001b[0;31m---------------------------------------------------------------------------\u001b[0m",
      "\u001b[0;31mInvalidDocument\u001b[0m                           Traceback (most recent call last)",
      "\u001b[0;32m<ipython-input-21-c8ac7cf9e8bd>\u001b[0m in \u001b[0;36m<module>\u001b[0;34m\u001b[0m\n\u001b[1;32m      6\u001b[0m \u001b[0mmars_db_col\u001b[0m \u001b[0;34m=\u001b[0m \u001b[0mmars_db\u001b[0m\u001b[0;34m[\u001b[0m\u001b[0;34m\"mars\"\u001b[0m\u001b[0;34m]\u001b[0m\u001b[0;34m\u001b[0m\u001b[0;34m\u001b[0m\u001b[0m\n\u001b[1;32m      7\u001b[0m \u001b[0;34m\u001b[0m\u001b[0m\n\u001b[0;32m----> 8\u001b[0;31m mars_dict=mars_db.db.mars_info.insert_one({'news_titles': news_titles, \n\u001b[0m\u001b[1;32m      9\u001b[0m                           \u001b[0;34m'news_p'\u001b[0m\u001b[0;34m:\u001b[0m \u001b[0mnews_paragraph\u001b[0m\u001b[0;34m,\u001b[0m\u001b[0;34m\u001b[0m\u001b[0;34m\u001b[0m\u001b[0m\n\u001b[1;32m     10\u001b[0m                           \u001b[0;34m'image_tag'\u001b[0m\u001b[0;34m:\u001b[0m \u001b[0mfeatured_image_url\u001b[0m\u001b[0;34m,\u001b[0m\u001b[0;34m\u001b[0m\u001b[0;34m\u001b[0m\u001b[0m\n",
      "\u001b[0;32m/opt/anaconda3/lib/python3.8/site-packages/pymongo/collection.py\u001b[0m in \u001b[0;36minsert_one\u001b[0;34m(self, document, bypass_document_validation, session)\u001b[0m\n\u001b[1;32m    696\u001b[0m         \u001b[0mwrite_concern\u001b[0m \u001b[0;34m=\u001b[0m \u001b[0mself\u001b[0m\u001b[0;34m.\u001b[0m\u001b[0m_write_concern_for\u001b[0m\u001b[0;34m(\u001b[0m\u001b[0msession\u001b[0m\u001b[0;34m)\u001b[0m\u001b[0;34m\u001b[0m\u001b[0;34m\u001b[0m\u001b[0m\n\u001b[1;32m    697\u001b[0m         return InsertOneResult(\n\u001b[0;32m--> 698\u001b[0;31m             self._insert(document,\n\u001b[0m\u001b[1;32m    699\u001b[0m                          \u001b[0mwrite_concern\u001b[0m\u001b[0;34m=\u001b[0m\u001b[0mwrite_concern\u001b[0m\u001b[0;34m,\u001b[0m\u001b[0;34m\u001b[0m\u001b[0;34m\u001b[0m\u001b[0m\n\u001b[1;32m    700\u001b[0m                          \u001b[0mbypass_doc_val\u001b[0m\u001b[0;34m=\u001b[0m\u001b[0mbypass_document_validation\u001b[0m\u001b[0;34m,\u001b[0m\u001b[0;34m\u001b[0m\u001b[0;34m\u001b[0m\u001b[0m\n",
      "\u001b[0;32m/opt/anaconda3/lib/python3.8/site-packages/pymongo/collection.py\u001b[0m in \u001b[0;36m_insert\u001b[0;34m(self, docs, ordered, check_keys, manipulate, write_concern, op_id, bypass_doc_val, session)\u001b[0m\n\u001b[1;32m    611\u001b[0m         \u001b[0;34m\"\"\"Internal insert helper.\"\"\"\u001b[0m\u001b[0;34m\u001b[0m\u001b[0;34m\u001b[0m\u001b[0m\n\u001b[1;32m    612\u001b[0m         \u001b[0;32mif\u001b[0m \u001b[0misinstance\u001b[0m\u001b[0;34m(\u001b[0m\u001b[0mdocs\u001b[0m\u001b[0;34m,\u001b[0m \u001b[0mabc\u001b[0m\u001b[0;34m.\u001b[0m\u001b[0mMapping\u001b[0m\u001b[0;34m)\u001b[0m\u001b[0;34m:\u001b[0m\u001b[0;34m\u001b[0m\u001b[0;34m\u001b[0m\u001b[0m\n\u001b[0;32m--> 613\u001b[0;31m             return self._insert_one(\n\u001b[0m\u001b[1;32m    614\u001b[0m                 \u001b[0mdocs\u001b[0m\u001b[0;34m,\u001b[0m \u001b[0mordered\u001b[0m\u001b[0;34m,\u001b[0m \u001b[0mcheck_keys\u001b[0m\u001b[0;34m,\u001b[0m \u001b[0mmanipulate\u001b[0m\u001b[0;34m,\u001b[0m \u001b[0mwrite_concern\u001b[0m\u001b[0;34m,\u001b[0m \u001b[0mop_id\u001b[0m\u001b[0;34m,\u001b[0m\u001b[0;34m\u001b[0m\u001b[0;34m\u001b[0m\u001b[0m\n\u001b[1;32m    615\u001b[0m                 bypass_doc_val, session)\n",
      "\u001b[0;32m/opt/anaconda3/lib/python3.8/site-packages/pymongo/collection.py\u001b[0m in \u001b[0;36m_insert_one\u001b[0;34m(self, doc, ordered, check_keys, manipulate, write_concern, op_id, bypass_doc_val, session)\u001b[0m\n\u001b[1;32m    600\u001b[0m             \u001b[0m_check_write_command_response\u001b[0m\u001b[0;34m(\u001b[0m\u001b[0mresult\u001b[0m\u001b[0;34m)\u001b[0m\u001b[0;34m\u001b[0m\u001b[0;34m\u001b[0m\u001b[0m\n\u001b[1;32m    601\u001b[0m \u001b[0;34m\u001b[0m\u001b[0m\n\u001b[0;32m--> 602\u001b[0;31m         self.__database.client._retryable_write(\n\u001b[0m\u001b[1;32m    603\u001b[0m             acknowledged, _insert_command, session)\n\u001b[1;32m    604\u001b[0m \u001b[0;34m\u001b[0m\u001b[0m\n",
      "\u001b[0;32m/opt/anaconda3/lib/python3.8/site-packages/pymongo/mongo_client.py\u001b[0m in \u001b[0;36m_retryable_write\u001b[0;34m(self, retryable, func, session)\u001b[0m\n\u001b[1;32m   1496\u001b[0m         \u001b[0;34m\"\"\"Internal retryable write helper.\"\"\"\u001b[0m\u001b[0;34m\u001b[0m\u001b[0;34m\u001b[0m\u001b[0m\n\u001b[1;32m   1497\u001b[0m         \u001b[0;32mwith\u001b[0m \u001b[0mself\u001b[0m\u001b[0;34m.\u001b[0m\u001b[0m_tmp_session\u001b[0m\u001b[0;34m(\u001b[0m\u001b[0msession\u001b[0m\u001b[0;34m)\u001b[0m \u001b[0;32mas\u001b[0m \u001b[0ms\u001b[0m\u001b[0;34m:\u001b[0m\u001b[0;34m\u001b[0m\u001b[0;34m\u001b[0m\u001b[0m\n\u001b[0;32m-> 1498\u001b[0;31m             \u001b[0;32mreturn\u001b[0m \u001b[0mself\u001b[0m\u001b[0;34m.\u001b[0m\u001b[0m_retry_with_session\u001b[0m\u001b[0;34m(\u001b[0m\u001b[0mretryable\u001b[0m\u001b[0;34m,\u001b[0m \u001b[0mfunc\u001b[0m\u001b[0;34m,\u001b[0m \u001b[0ms\u001b[0m\u001b[0;34m,\u001b[0m \u001b[0;32mNone\u001b[0m\u001b[0;34m)\u001b[0m\u001b[0;34m\u001b[0m\u001b[0;34m\u001b[0m\u001b[0m\n\u001b[0m\u001b[1;32m   1499\u001b[0m \u001b[0;34m\u001b[0m\u001b[0m\n\u001b[1;32m   1500\u001b[0m     \u001b[0;32mdef\u001b[0m \u001b[0m_handle_getlasterror\u001b[0m\u001b[0;34m(\u001b[0m\u001b[0mself\u001b[0m\u001b[0;34m,\u001b[0m \u001b[0maddress\u001b[0m\u001b[0;34m,\u001b[0m \u001b[0merror_msg\u001b[0m\u001b[0;34m)\u001b[0m\u001b[0;34m:\u001b[0m\u001b[0;34m\u001b[0m\u001b[0;34m\u001b[0m\u001b[0m\n",
      "\u001b[0;32m/opt/anaconda3/lib/python3.8/site-packages/pymongo/mongo_client.py\u001b[0m in \u001b[0;36m_retry_with_session\u001b[0;34m(self, retryable, func, session, bulk)\u001b[0m\n\u001b[1;32m   1382\u001b[0m         retryable = (retryable and self.retry_writes\n\u001b[1;32m   1383\u001b[0m                      and session and not session.in_transaction)\n\u001b[0;32m-> 1384\u001b[0;31m         \u001b[0;32mreturn\u001b[0m \u001b[0mself\u001b[0m\u001b[0;34m.\u001b[0m\u001b[0m_retry_internal\u001b[0m\u001b[0;34m(\u001b[0m\u001b[0mretryable\u001b[0m\u001b[0;34m,\u001b[0m \u001b[0mfunc\u001b[0m\u001b[0;34m,\u001b[0m \u001b[0msession\u001b[0m\u001b[0;34m,\u001b[0m \u001b[0mbulk\u001b[0m\u001b[0;34m)\u001b[0m\u001b[0;34m\u001b[0m\u001b[0;34m\u001b[0m\u001b[0m\n\u001b[0m\u001b[1;32m   1385\u001b[0m \u001b[0;34m\u001b[0m\u001b[0m\n\u001b[1;32m   1386\u001b[0m     \u001b[0;32mdef\u001b[0m \u001b[0m_retry_internal\u001b[0m\u001b[0;34m(\u001b[0m\u001b[0mself\u001b[0m\u001b[0;34m,\u001b[0m \u001b[0mretryable\u001b[0m\u001b[0;34m,\u001b[0m \u001b[0mfunc\u001b[0m\u001b[0;34m,\u001b[0m \u001b[0msession\u001b[0m\u001b[0;34m,\u001b[0m \u001b[0mbulk\u001b[0m\u001b[0;34m)\u001b[0m\u001b[0;34m:\u001b[0m\u001b[0;34m\u001b[0m\u001b[0;34m\u001b[0m\u001b[0m\n",
      "\u001b[0;32m/opt/anaconda3/lib/python3.8/site-packages/pymongo/mongo_client.py\u001b[0m in \u001b[0;36m_retry_internal\u001b[0;34m(self, retryable, func, session, bulk)\u001b[0m\n\u001b[1;32m   1414\u001b[0m                             \u001b[0;32mraise\u001b[0m \u001b[0mlast_error\u001b[0m\u001b[0;34m\u001b[0m\u001b[0;34m\u001b[0m\u001b[0m\n\u001b[1;32m   1415\u001b[0m                         \u001b[0mretryable\u001b[0m \u001b[0;34m=\u001b[0m \u001b[0;32mFalse\u001b[0m\u001b[0;34m\u001b[0m\u001b[0;34m\u001b[0m\u001b[0m\n\u001b[0;32m-> 1416\u001b[0;31m                     \u001b[0;32mreturn\u001b[0m \u001b[0mfunc\u001b[0m\u001b[0;34m(\u001b[0m\u001b[0msession\u001b[0m\u001b[0;34m,\u001b[0m \u001b[0msock_info\u001b[0m\u001b[0;34m,\u001b[0m \u001b[0mretryable\u001b[0m\u001b[0;34m)\u001b[0m\u001b[0;34m\u001b[0m\u001b[0;34m\u001b[0m\u001b[0m\n\u001b[0m\u001b[1;32m   1417\u001b[0m             \u001b[0;32mexcept\u001b[0m \u001b[0mServerSelectionTimeoutError\u001b[0m\u001b[0;34m:\u001b[0m\u001b[0;34m\u001b[0m\u001b[0;34m\u001b[0m\u001b[0m\n\u001b[1;32m   1418\u001b[0m                 \u001b[0;32mif\u001b[0m \u001b[0mis_retrying\u001b[0m\u001b[0;34m(\u001b[0m\u001b[0;34m)\u001b[0m\u001b[0;34m:\u001b[0m\u001b[0;34m\u001b[0m\u001b[0;34m\u001b[0m\u001b[0m\n",
      "\u001b[0;32m/opt/anaconda3/lib/python3.8/site-packages/pymongo/collection.py\u001b[0m in \u001b[0;36m_insert_command\u001b[0;34m(session, sock_info, retryable_write)\u001b[0m\n\u001b[1;32m    588\u001b[0m                 \u001b[0mcommand\u001b[0m\u001b[0;34m[\u001b[0m\u001b[0;34m'bypassDocumentValidation'\u001b[0m\u001b[0;34m]\u001b[0m \u001b[0;34m=\u001b[0m \u001b[0;32mTrue\u001b[0m\u001b[0;34m\u001b[0m\u001b[0;34m\u001b[0m\u001b[0m\n\u001b[1;32m    589\u001b[0m \u001b[0;34m\u001b[0m\u001b[0m\n\u001b[0;32m--> 590\u001b[0;31m             result = sock_info.command(\n\u001b[0m\u001b[1;32m    591\u001b[0m                 \u001b[0mself\u001b[0m\u001b[0;34m.\u001b[0m\u001b[0m__database\u001b[0m\u001b[0;34m.\u001b[0m\u001b[0mname\u001b[0m\u001b[0;34m,\u001b[0m\u001b[0;34m\u001b[0m\u001b[0;34m\u001b[0m\u001b[0m\n\u001b[1;32m    592\u001b[0m                 \u001b[0mcommand\u001b[0m\u001b[0;34m,\u001b[0m\u001b[0;34m\u001b[0m\u001b[0;34m\u001b[0m\u001b[0m\n",
      "\u001b[0;32m/opt/anaconda3/lib/python3.8/site-packages/pymongo/pool.py\u001b[0m in \u001b[0;36mcommand\u001b[0;34m(self, dbname, spec, slave_ok, read_preference, codec_options, check, allowable_errors, check_keys, read_concern, write_concern, parse_write_concern_error, collation, session, client, retryable_write, publish_events, user_fields, exhaust_allowed)\u001b[0m\n\u001b[1;32m    697\u001b[0m         \u001b[0;31m# Catch socket.error, KeyboardInterrupt, etc. and close ourselves.\u001b[0m\u001b[0;34m\u001b[0m\u001b[0;34m\u001b[0m\u001b[0;34m\u001b[0m\u001b[0m\n\u001b[1;32m    698\u001b[0m         \u001b[0;32mexcept\u001b[0m \u001b[0mBaseException\u001b[0m \u001b[0;32mas\u001b[0m \u001b[0merror\u001b[0m\u001b[0;34m:\u001b[0m\u001b[0;34m\u001b[0m\u001b[0;34m\u001b[0m\u001b[0m\n\u001b[0;32m--> 699\u001b[0;31m             \u001b[0mself\u001b[0m\u001b[0;34m.\u001b[0m\u001b[0m_raise_connection_failure\u001b[0m\u001b[0;34m(\u001b[0m\u001b[0merror\u001b[0m\u001b[0;34m)\u001b[0m\u001b[0;34m\u001b[0m\u001b[0;34m\u001b[0m\u001b[0m\n\u001b[0m\u001b[1;32m    700\u001b[0m \u001b[0;34m\u001b[0m\u001b[0m\n\u001b[1;32m    701\u001b[0m     \u001b[0;32mdef\u001b[0m \u001b[0msend_message\u001b[0m\u001b[0;34m(\u001b[0m\u001b[0mself\u001b[0m\u001b[0;34m,\u001b[0m \u001b[0mmessage\u001b[0m\u001b[0;34m,\u001b[0m \u001b[0mmax_doc_size\u001b[0m\u001b[0;34m)\u001b[0m\u001b[0;34m:\u001b[0m\u001b[0;34m\u001b[0m\u001b[0;34m\u001b[0m\u001b[0m\n",
      "\u001b[0;32m/opt/anaconda3/lib/python3.8/site-packages/pymongo/pool.py\u001b[0m in \u001b[0;36mcommand\u001b[0;34m(self, dbname, spec, slave_ok, read_preference, codec_options, check, allowable_errors, check_keys, read_concern, write_concern, parse_write_concern_error, collation, session, client, retryable_write, publish_events, user_fields, exhaust_allowed)\u001b[0m\n\u001b[1;32m    681\u001b[0m             \u001b[0mself\u001b[0m\u001b[0;34m.\u001b[0m\u001b[0m_raise_if_not_writable\u001b[0m\u001b[0;34m(\u001b[0m\u001b[0munacknowledged\u001b[0m\u001b[0;34m)\u001b[0m\u001b[0;34m\u001b[0m\u001b[0;34m\u001b[0m\u001b[0m\n\u001b[1;32m    682\u001b[0m         \u001b[0;32mtry\u001b[0m\u001b[0;34m:\u001b[0m\u001b[0;34m\u001b[0m\u001b[0;34m\u001b[0m\u001b[0m\n\u001b[0;32m--> 683\u001b[0;31m             return command(self, dbname, spec, slave_ok,\n\u001b[0m\u001b[1;32m    684\u001b[0m                            \u001b[0mself\u001b[0m\u001b[0;34m.\u001b[0m\u001b[0mis_mongos\u001b[0m\u001b[0;34m,\u001b[0m \u001b[0mread_preference\u001b[0m\u001b[0;34m,\u001b[0m \u001b[0mcodec_options\u001b[0m\u001b[0;34m,\u001b[0m\u001b[0;34m\u001b[0m\u001b[0;34m\u001b[0m\u001b[0m\n\u001b[1;32m    685\u001b[0m                            \u001b[0msession\u001b[0m\u001b[0;34m,\u001b[0m \u001b[0mclient\u001b[0m\u001b[0;34m,\u001b[0m \u001b[0mcheck\u001b[0m\u001b[0;34m,\u001b[0m \u001b[0mallowable_errors\u001b[0m\u001b[0;34m,\u001b[0m\u001b[0;34m\u001b[0m\u001b[0;34m\u001b[0m\u001b[0m\n",
      "\u001b[0;32m/opt/anaconda3/lib/python3.8/site-packages/pymongo/network.py\u001b[0m in \u001b[0;36mcommand\u001b[0;34m(sock_info, dbname, spec, slave_ok, is_mongos, read_preference, codec_options, session, client, check, allowable_errors, address, check_keys, listeners, max_bson_size, read_concern, parse_write_concern_error, collation, compression_ctx, use_op_msg, unacknowledged, user_fields, exhaust_allowed)\u001b[0m\n\u001b[1;32m    118\u001b[0m         \u001b[0mflags\u001b[0m \u001b[0;34m=\u001b[0m \u001b[0m_OpMsg\u001b[0m\u001b[0;34m.\u001b[0m\u001b[0mMORE_TO_COME\u001b[0m \u001b[0;32mif\u001b[0m \u001b[0munacknowledged\u001b[0m \u001b[0;32melse\u001b[0m \u001b[0;36m0\u001b[0m\u001b[0;34m\u001b[0m\u001b[0;34m\u001b[0m\u001b[0m\n\u001b[1;32m    119\u001b[0m         \u001b[0mflags\u001b[0m \u001b[0;34m|=\u001b[0m \u001b[0m_OpMsg\u001b[0m\u001b[0;34m.\u001b[0m\u001b[0mEXHAUST_ALLOWED\u001b[0m \u001b[0;32mif\u001b[0m \u001b[0mexhaust_allowed\u001b[0m \u001b[0;32melse\u001b[0m \u001b[0;36m0\u001b[0m\u001b[0;34m\u001b[0m\u001b[0;34m\u001b[0m\u001b[0m\n\u001b[0;32m--> 120\u001b[0;31m         request_id, msg, size, max_doc_size = message._op_msg(\n\u001b[0m\u001b[1;32m    121\u001b[0m             \u001b[0mflags\u001b[0m\u001b[0;34m,\u001b[0m \u001b[0mspec\u001b[0m\u001b[0;34m,\u001b[0m \u001b[0mdbname\u001b[0m\u001b[0;34m,\u001b[0m \u001b[0mread_preference\u001b[0m\u001b[0;34m,\u001b[0m \u001b[0mslave_ok\u001b[0m\u001b[0;34m,\u001b[0m \u001b[0mcheck_keys\u001b[0m\u001b[0;34m,\u001b[0m\u001b[0;34m\u001b[0m\u001b[0;34m\u001b[0m\u001b[0m\n\u001b[1;32m    122\u001b[0m             codec_options, ctx=compression_ctx)\n",
      "\u001b[0;32m/opt/anaconda3/lib/python3.8/site-packages/pymongo/message.py\u001b[0m in \u001b[0;36m_op_msg\u001b[0;34m(flags, command, dbname, read_preference, slave_ok, check_keys, opts, ctx)\u001b[0m\n\u001b[1;32m    712\u001b[0m             return _op_msg_compressed(\n\u001b[1;32m    713\u001b[0m                 flags, command, identifier, docs, check_keys, opts, ctx)\n\u001b[0;32m--> 714\u001b[0;31m         return _op_msg_uncompressed(\n\u001b[0m\u001b[1;32m    715\u001b[0m             flags, command, identifier, docs, check_keys, opts)\n\u001b[1;32m    716\u001b[0m     \u001b[0;32mfinally\u001b[0m\u001b[0;34m:\u001b[0m\u001b[0;34m\u001b[0m\u001b[0;34m\u001b[0m\u001b[0m\n",
      "\u001b[0;31mInvalidDocument\u001b[0m: cannot encode object:   Mars-Earth Comparison                           Mars\n0  Equatorial Diameter:                       6,792 km\n1       Polar Diameter:                       6,752 km\n2                 Mass:  6.39 × 10^23 kg (0.11 Earths)\n3                Moons:            2 (Phobos & Deimos)\n4       Orbit Distance:       227,943,824 km (1.38 AU)\n5         Orbit Period:           687 days (1.9 years)\n6  Surface Temperature:                   -87 to -5 °C\n7         First Record:              2nd millennium BC\n8          Recorded By:           Egyptian astronomers, of type: <class 'pandas.core.frame.DataFrame'>"
     ]
    }
   ],
   "source": [
    "\n",
    "mongo_conn=pymongo.MongoClient('mongodb://localhost:27017')\n",
    "\n",
    "# Declare the database\n",
    "mars_db = mongo_conn[\"mars_db\"]\n",
    "# Declare the collection\n",
    "mars_db_col = mars_db[\"mars\"]\n",
    "\n",
    "mars_dict=mars_db.db.mars_info.insert_one({'news_titles': news_titles, \n",
    "                          'news_p': news_paragraph,\n",
    "                          'image_tag': featured_image_url,\n",
    "                          'mars_facts': mars_facts,\n",
    "                           })\n",
    "\n"
   ]
  },
  {
   "cell_type": "code",
   "execution_count": 22,
   "metadata": {},
   "outputs": [],
   "source": [
    "# mars_dict=mars_db.db.mars_info.insert({'news_titles': 'get from above', \n",
    "#                           'news_p': 'get from above',\n",
    "#                             'image_tag': 'featured_image_url',\n",
    "#                           #'mars_facts': 'table_string',\n",
    "#                            })\n",
    "\n",
    "# db.mars_db.insert_one(mars_dict)\n",
    "\n",
    "#client.fruit_db.fruits.insert_one(post)"
   ]
  },
  {
   "cell_type": "code",
   "execution_count": 33,
   "metadata": {},
   "outputs": [
    {
     "name": "stderr",
     "output_type": "stream",
     "text": [
      "[WDM] - ====== WebDriver manager ======\n",
      "[WDM] - Current google-chrome version is 89.0.4389\n",
      "[WDM] - Get LATEST driver version for 89.0.4389\n",
      "[WDM] - Driver [/Users/johnmowry/.wdm/drivers/chromedriver/mac64/89.0.4389.23/chromedriver] found in cache\n"
     ]
    },
    {
     "name": "stdout",
     "output_type": "stream",
     "text": [
      "\n",
      "\n"
     ]
    },
    {
     "ename": "NoSuchWindowException",
     "evalue": "Message: no such window: target window already closed\nfrom unknown error: web view not found\n  (Session info: chrome=89.0.4389.82)\n",
     "output_type": "error",
     "traceback": [
      "\u001b[0;31m---------------------------------------------------------------------------\u001b[0m",
      "\u001b[0;31mNoSuchWindowException\u001b[0m                     Traceback (most recent call last)",
      "\u001b[0;32m<ipython-input-33-863ccbe2f902>\u001b[0m in \u001b[0;36m<module>\u001b[0;34m\u001b[0m\n\u001b[1;32m     22\u001b[0m \u001b[0;34m\u001b[0m\u001b[0m\n\u001b[1;32m     23\u001b[0m \u001b[0;34m\u001b[0m\u001b[0m\n\u001b[0;32m---> 24\u001b[0;31m \u001b[0mlinks_found\u001b[0m \u001b[0;34m=\u001b[0m \u001b[0mbrowser\u001b[0m\u001b[0;34m.\u001b[0m\u001b[0mlinks\u001b[0m\u001b[0;34m.\u001b[0m\u001b[0mfind_by_partial_text\u001b[0m\u001b[0;34m(\u001b[0m\u001b[0;34m'map/Mars'\u001b[0m\u001b[0;34m)\u001b[0m\u001b[0;34m\u001b[0m\u001b[0;34m\u001b[0m\u001b[0m\n\u001b[0m\u001b[1;32m     25\u001b[0m \u001b[0mlinks_found\u001b[0m\u001b[0;34m\u001b[0m\u001b[0;34m\u001b[0m\u001b[0m\n\u001b[1;32m     26\u001b[0m \u001b[0;31m# obtain high resolution img for each of Mar's hemispheres\u001b[0m\u001b[0;34m\u001b[0m\u001b[0;34m\u001b[0m\u001b[0;34m\u001b[0m\u001b[0m\n",
      "\u001b[0;32m/opt/anaconda3/lib/python3.8/site-packages/splinter/driver/find_links.py\u001b[0m in \u001b[0;36mfind_by_partial_text\u001b[0;34m(self, partial_text)\u001b[0m\n\u001b[1;32m     27\u001b[0m \u001b[0;34m\u001b[0m\u001b[0m\n\u001b[1;32m     28\u001b[0m     \u001b[0;32mdef\u001b[0m \u001b[0mfind_by_partial_text\u001b[0m\u001b[0;34m(\u001b[0m\u001b[0mself\u001b[0m\u001b[0;34m,\u001b[0m \u001b[0mpartial_text\u001b[0m\u001b[0;34m)\u001b[0m\u001b[0;34m:\u001b[0m\u001b[0;34m\u001b[0m\u001b[0;34m\u001b[0m\u001b[0m\n\u001b[0;32m---> 29\u001b[0;31m         return self.parent.find_by_xpath(\n\u001b[0m\u001b[1;32m     30\u001b[0m             \u001b[0;34m'//a[contains(normalize-space(.), \"{}\")]'\u001b[0m\u001b[0;34m.\u001b[0m\u001b[0mformat\u001b[0m\u001b[0;34m(\u001b[0m\u001b[0mpartial_text\u001b[0m\u001b[0;34m)\u001b[0m\u001b[0;34m,\u001b[0m\u001b[0;34m\u001b[0m\u001b[0;34m\u001b[0m\u001b[0m\n\u001b[1;32m     31\u001b[0m             \u001b[0moriginal_find\u001b[0m\u001b[0;34m=\u001b[0m\u001b[0;34m\"link by partial text\"\u001b[0m\u001b[0;34m,\u001b[0m\u001b[0;34m\u001b[0m\u001b[0;34m\u001b[0m\u001b[0m\n",
      "\u001b[0;32m/opt/anaconda3/lib/python3.8/site-packages/splinter/driver/webdriver/__init__.py\u001b[0m in \u001b[0;36mfind_by_xpath\u001b[0;34m(self, xpath, original_find, original_query, wait_time)\u001b[0m\n\u001b[1;32m    515\u001b[0m         \u001b[0moriginal_find\u001b[0m \u001b[0;34m=\u001b[0m \u001b[0moriginal_find\u001b[0m \u001b[0;32mor\u001b[0m \u001b[0;34m\"xpath\"\u001b[0m\u001b[0;34m\u001b[0m\u001b[0;34m\u001b[0m\u001b[0m\n\u001b[1;32m    516\u001b[0m         \u001b[0moriginal_query\u001b[0m \u001b[0;34m=\u001b[0m \u001b[0moriginal_query\u001b[0m \u001b[0;32mor\u001b[0m \u001b[0mxpath\u001b[0m\u001b[0;34m\u001b[0m\u001b[0;34m\u001b[0m\u001b[0m\n\u001b[0;32m--> 517\u001b[0;31m         return self.find_by(\n\u001b[0m\u001b[1;32m    518\u001b[0m             \u001b[0mself\u001b[0m\u001b[0;34m.\u001b[0m\u001b[0mdriver\u001b[0m\u001b[0;34m.\u001b[0m\u001b[0mfind_elements_by_xpath\u001b[0m\u001b[0;34m,\u001b[0m\u001b[0;34m\u001b[0m\u001b[0;34m\u001b[0m\u001b[0m\n\u001b[1;32m    519\u001b[0m             \u001b[0mxpath\u001b[0m\u001b[0;34m,\u001b[0m\u001b[0;34m\u001b[0m\u001b[0;34m\u001b[0m\u001b[0m\n",
      "\u001b[0;32m/opt/anaconda3/lib/python3.8/site-packages/splinter/driver/webdriver/__init__.py\u001b[0m in \u001b[0;36mfind_by\u001b[0;34m(self, finder, selector, original_find, original_query, wait_time)\u001b[0m\n\u001b[1;32m    245\u001b[0m \u001b[0;34m\u001b[0m\u001b[0m\n\u001b[1;32m    246\u001b[0m         \u001b[0;32mwhile\u001b[0m \u001b[0mtime\u001b[0m\u001b[0;34m.\u001b[0m\u001b[0mtime\u001b[0m\u001b[0;34m(\u001b[0m\u001b[0;34m)\u001b[0m \u001b[0;34m<\u001b[0m \u001b[0mend_time\u001b[0m\u001b[0;34m:\u001b[0m\u001b[0;34m\u001b[0m\u001b[0;34m\u001b[0m\u001b[0m\n\u001b[0;32m--> 247\u001b[0;31m             \u001b[0melem_list\u001b[0m \u001b[0;34m=\u001b[0m \u001b[0m_find\u001b[0m\u001b[0;34m(\u001b[0m\u001b[0mself\u001b[0m\u001b[0;34m,\u001b[0m \u001b[0mfinder\u001b[0m\u001b[0;34m,\u001b[0m \u001b[0mselector\u001b[0m\u001b[0;34m)\u001b[0m\u001b[0;34m\u001b[0m\u001b[0;34m\u001b[0m\u001b[0m\n\u001b[0m\u001b[1;32m    248\u001b[0m \u001b[0;34m\u001b[0m\u001b[0m\n\u001b[1;32m    249\u001b[0m             \u001b[0;32mif\u001b[0m \u001b[0melem_list\u001b[0m\u001b[0;34m:\u001b[0m\u001b[0;34m\u001b[0m\u001b[0;34m\u001b[0m\u001b[0m\n",
      "\u001b[0;32m/opt/anaconda3/lib/python3.8/site-packages/splinter/driver/webdriver/__init__.py\u001b[0m in \u001b[0;36m_find\u001b[0;34m(self, finder, selector)\u001b[0m\n\u001b[1;32m    205\u001b[0m \u001b[0;34m\u001b[0m\u001b[0m\n\u001b[1;32m    206\u001b[0m     \u001b[0;32mtry\u001b[0m\u001b[0;34m:\u001b[0m\u001b[0;34m\u001b[0m\u001b[0;34m\u001b[0m\u001b[0m\n\u001b[0;32m--> 207\u001b[0;31m         \u001b[0melements\u001b[0m \u001b[0;34m=\u001b[0m \u001b[0mfinder\u001b[0m\u001b[0;34m(\u001b[0m\u001b[0mselector\u001b[0m\u001b[0;34m)\u001b[0m\u001b[0;34m\u001b[0m\u001b[0;34m\u001b[0m\u001b[0m\n\u001b[0m\u001b[1;32m    208\u001b[0m         \u001b[0;32mif\u001b[0m \u001b[0;32mnot\u001b[0m \u001b[0misinstance\u001b[0m\u001b[0;34m(\u001b[0m\u001b[0melements\u001b[0m\u001b[0;34m,\u001b[0m \u001b[0mlist\u001b[0m\u001b[0;34m)\u001b[0m\u001b[0;34m:\u001b[0m\u001b[0;34m\u001b[0m\u001b[0;34m\u001b[0m\u001b[0m\n\u001b[1;32m    209\u001b[0m             \u001b[0melements\u001b[0m \u001b[0;34m=\u001b[0m \u001b[0;34m[\u001b[0m\u001b[0melements\u001b[0m\u001b[0;34m]\u001b[0m\u001b[0;34m\u001b[0m\u001b[0;34m\u001b[0m\u001b[0m\n",
      "\u001b[0;32m/opt/anaconda3/lib/python3.8/site-packages/selenium/webdriver/remote/webdriver.py\u001b[0m in \u001b[0;36mfind_elements_by_xpath\u001b[0;34m(self, xpath)\u001b[0m\n\u001b[1;32m    408\u001b[0m             \u001b[0melements\u001b[0m \u001b[0;34m=\u001b[0m \u001b[0mdriver\u001b[0m\u001b[0;34m.\u001b[0m\u001b[0mfind_elements_by_xpath\u001b[0m\u001b[0;34m(\u001b[0m\u001b[0;34m\"//div[contains(@class, 'foo')]\"\u001b[0m\u001b[0;34m)\u001b[0m\u001b[0;34m\u001b[0m\u001b[0;34m\u001b[0m\u001b[0m\n\u001b[1;32m    409\u001b[0m         \"\"\"\n\u001b[0;32m--> 410\u001b[0;31m         \u001b[0;32mreturn\u001b[0m \u001b[0mself\u001b[0m\u001b[0;34m.\u001b[0m\u001b[0mfind_elements\u001b[0m\u001b[0;34m(\u001b[0m\u001b[0mby\u001b[0m\u001b[0;34m=\u001b[0m\u001b[0mBy\u001b[0m\u001b[0;34m.\u001b[0m\u001b[0mXPATH\u001b[0m\u001b[0;34m,\u001b[0m \u001b[0mvalue\u001b[0m\u001b[0;34m=\u001b[0m\u001b[0mxpath\u001b[0m\u001b[0;34m)\u001b[0m\u001b[0;34m\u001b[0m\u001b[0;34m\u001b[0m\u001b[0m\n\u001b[0m\u001b[1;32m    411\u001b[0m \u001b[0;34m\u001b[0m\u001b[0m\n\u001b[1;32m    412\u001b[0m     \u001b[0;32mdef\u001b[0m \u001b[0mfind_element_by_link_text\u001b[0m\u001b[0;34m(\u001b[0m\u001b[0mself\u001b[0m\u001b[0;34m,\u001b[0m \u001b[0mlink_text\u001b[0m\u001b[0;34m)\u001b[0m\u001b[0;34m:\u001b[0m\u001b[0;34m\u001b[0m\u001b[0;34m\u001b[0m\u001b[0m\n",
      "\u001b[0;32m/opt/anaconda3/lib/python3.8/site-packages/selenium/webdriver/remote/webdriver.py\u001b[0m in \u001b[0;36mfind_elements\u001b[0;34m(self, by, value)\u001b[0m\n\u001b[1;32m   1003\u001b[0m         \u001b[0;31m# Return empty list if driver returns null\u001b[0m\u001b[0;34m\u001b[0m\u001b[0;34m\u001b[0m\u001b[0;34m\u001b[0m\u001b[0m\n\u001b[1;32m   1004\u001b[0m         \u001b[0;31m# See https://github.com/SeleniumHQ/selenium/issues/4555\u001b[0m\u001b[0;34m\u001b[0m\u001b[0;34m\u001b[0m\u001b[0;34m\u001b[0m\u001b[0m\n\u001b[0;32m-> 1005\u001b[0;31m         return self.execute(Command.FIND_ELEMENTS, {\n\u001b[0m\u001b[1;32m   1006\u001b[0m             \u001b[0;34m'using'\u001b[0m\u001b[0;34m:\u001b[0m \u001b[0mby\u001b[0m\u001b[0;34m,\u001b[0m\u001b[0;34m\u001b[0m\u001b[0;34m\u001b[0m\u001b[0m\n\u001b[1;32m   1007\u001b[0m             'value': value})['value'] or []\n",
      "\u001b[0;32m/opt/anaconda3/lib/python3.8/site-packages/selenium/webdriver/remote/webdriver.py\u001b[0m in \u001b[0;36mexecute\u001b[0;34m(self, driver_command, params)\u001b[0m\n\u001b[1;32m    319\u001b[0m         \u001b[0mresponse\u001b[0m \u001b[0;34m=\u001b[0m \u001b[0mself\u001b[0m\u001b[0;34m.\u001b[0m\u001b[0mcommand_executor\u001b[0m\u001b[0;34m.\u001b[0m\u001b[0mexecute\u001b[0m\u001b[0;34m(\u001b[0m\u001b[0mdriver_command\u001b[0m\u001b[0;34m,\u001b[0m \u001b[0mparams\u001b[0m\u001b[0;34m)\u001b[0m\u001b[0;34m\u001b[0m\u001b[0;34m\u001b[0m\u001b[0m\n\u001b[1;32m    320\u001b[0m         \u001b[0;32mif\u001b[0m \u001b[0mresponse\u001b[0m\u001b[0;34m:\u001b[0m\u001b[0;34m\u001b[0m\u001b[0;34m\u001b[0m\u001b[0m\n\u001b[0;32m--> 321\u001b[0;31m             \u001b[0mself\u001b[0m\u001b[0;34m.\u001b[0m\u001b[0merror_handler\u001b[0m\u001b[0;34m.\u001b[0m\u001b[0mcheck_response\u001b[0m\u001b[0;34m(\u001b[0m\u001b[0mresponse\u001b[0m\u001b[0;34m)\u001b[0m\u001b[0;34m\u001b[0m\u001b[0;34m\u001b[0m\u001b[0m\n\u001b[0m\u001b[1;32m    322\u001b[0m             response['value'] = self._unwrap_value(\n\u001b[1;32m    323\u001b[0m                 response.get('value', None))\n",
      "\u001b[0;32m/opt/anaconda3/lib/python3.8/site-packages/selenium/webdriver/remote/errorhandler.py\u001b[0m in \u001b[0;36mcheck_response\u001b[0;34m(self, response)\u001b[0m\n\u001b[1;32m    240\u001b[0m                 \u001b[0malert_text\u001b[0m \u001b[0;34m=\u001b[0m \u001b[0mvalue\u001b[0m\u001b[0;34m[\u001b[0m\u001b[0;34m'alert'\u001b[0m\u001b[0;34m]\u001b[0m\u001b[0;34m.\u001b[0m\u001b[0mget\u001b[0m\u001b[0;34m(\u001b[0m\u001b[0;34m'text'\u001b[0m\u001b[0;34m)\u001b[0m\u001b[0;34m\u001b[0m\u001b[0;34m\u001b[0m\u001b[0m\n\u001b[1;32m    241\u001b[0m             \u001b[0;32mraise\u001b[0m \u001b[0mexception_class\u001b[0m\u001b[0;34m(\u001b[0m\u001b[0mmessage\u001b[0m\u001b[0;34m,\u001b[0m \u001b[0mscreen\u001b[0m\u001b[0;34m,\u001b[0m \u001b[0mstacktrace\u001b[0m\u001b[0;34m,\u001b[0m \u001b[0malert_text\u001b[0m\u001b[0;34m)\u001b[0m\u001b[0;34m\u001b[0m\u001b[0;34m\u001b[0m\u001b[0m\n\u001b[0;32m--> 242\u001b[0;31m         \u001b[0;32mraise\u001b[0m \u001b[0mexception_class\u001b[0m\u001b[0;34m(\u001b[0m\u001b[0mmessage\u001b[0m\u001b[0;34m,\u001b[0m \u001b[0mscreen\u001b[0m\u001b[0;34m,\u001b[0m \u001b[0mstacktrace\u001b[0m\u001b[0;34m)\u001b[0m\u001b[0;34m\u001b[0m\u001b[0;34m\u001b[0m\u001b[0m\n\u001b[0m\u001b[1;32m    243\u001b[0m \u001b[0;34m\u001b[0m\u001b[0m\n\u001b[1;32m    244\u001b[0m     \u001b[0;32mdef\u001b[0m \u001b[0m_value_or_default\u001b[0m\u001b[0;34m(\u001b[0m\u001b[0mself\u001b[0m\u001b[0;34m,\u001b[0m \u001b[0mobj\u001b[0m\u001b[0;34m,\u001b[0m \u001b[0mkey\u001b[0m\u001b[0;34m,\u001b[0m \u001b[0mdefault\u001b[0m\u001b[0;34m)\u001b[0m\u001b[0;34m:\u001b[0m\u001b[0;34m\u001b[0m\u001b[0;34m\u001b[0m\u001b[0m\n",
      "\u001b[0;31mNoSuchWindowException\u001b[0m: Message: no such window: target window already closed\nfrom unknown error: web view not found\n  (Session info: chrome=89.0.4389.82)\n"
     ]
    }
   ],
   "source": [
    "# scrape \n",
    "#https://astrogeology.usgs.gov/search/results?q=hemisphere+enhanced&k1=target&v1=Mars\n",
    "mars_hemisphere_path='https://astrogeology.usgs.gov/search/results?q=hemisphere+enhanced&k1=target&v1=Mars'\n",
    "\n",
    "#mars_hem= requests.get(mars_hemisphere_path)\n",
    "\n",
    "executable_path={'executable_path': ChromeDriverManager().install()}\n",
    "browser=Browser('chrome', **executable_path, headless=False)\n",
    "\n",
    "browser.visit(mars_hemisphere_path)\n",
    "html=browser.html\n",
    "\n",
    "\n",
    "soup=BeautifulSoup(html, 'html.parser')\n",
    "\n",
    "\n",
    "\n",
    "# high_resolution=soup.findAll(\"a\", href=\"\")\n",
    "# high_resolution\n",
    "img= soup.findAll(\"img\", class_=\"thumb\")\n",
    "img\n",
    "\n",
    "\n",
    "links_found = browser.links.find_by_partial_text('map/Mars')\n",
    "links_found\n",
    "# obtain high resolution img for each of Mar's hemispheres\n",
    "# click each of the links to the hemisphere in order to find the img url to the full resolution img.\n",
    "\n",
    "#save both the img url string for the full reso hemisphere img\n",
    "# & the Hemipshere title containing the hemisphere name. \n",
    "\n",
    "#use python dict to store the data using the keys 'img_url' & 'title'\n",
    "# append the dict w/ the img url string & the hemisphere title to a list.\n",
    "# this list will contain one dict for each hemisphere\n",
    "\n",
    "# #python\n",
    "# # Example:\n",
    "# hemisphere_image_urls = [\n",
    "#     {\"title\": \"Valles Marineris Hemisphere\", \"img_url\": \"...\"},\n",
    "#     {\"title\": \"Cerberus Hemisphere\", \"img_url\": \"...\"},\n",
    "#     {\"title\": \"Schiaparelli Hemisphere\", \"img_url\": \"...\"},\n",
    "#     {\"title\": \"Syrtis Major Hemisphere\", \"img_url\": \"...\"},\n",
    "# ]"
   ]
  },
  {
   "cell_type": "code",
   "execution_count": null,
   "metadata": {},
   "outputs": [],
   "source": [
    "browser.quit()"
   ]
  },
  {
   "cell_type": "code",
   "execution_count": null,
   "metadata": {},
   "outputs": [],
   "source": [
    "\n",
    "news_path='https://mars.nasa.gov/news/'\n",
    "\n",
    "#use request to pull html\n",
    "mars_news= requests.get(news_path)#.json #returns a response# return json / dictionary (in python)\n",
    "#html=mars_news.html\n",
    "\n",
    "##below is splinter\n",
    "#create a driver\n",
    "executable_path={'executable_path': ChromeDriverManager().install()}\n",
    "browser=Browser('chrome', **executable_path, headless=False)\n",
    "\n",
    "browser.visit(news_path)\n",
    "html=browser.html\n",
    "#use bs4 to parse outand collect the latest News Title and Paragraph Text. \n",
    "soup=BeautifulSoup(html, 'html.parser') # return a soup object\n",
    "\n",
    "news_title=soup.findAll(\"div\", class_=\"content_title\")\n",
    "news_title"
   ]
  },
  {
   "cell_type": "code",
   "execution_count": null,
   "metadata": {},
   "outputs": [],
   "source": []
  },
  {
   "cell_type": "code",
   "execution_count": null,
   "metadata": {},
   "outputs": [],
   "source": []
  }
 ],
 "metadata": {
  "kernelspec": {
   "display_name": "Python 3",
   "language": "python",
   "name": "python3"
  },
  "language_info": {
   "codemirror_mode": {
    "name": "ipython",
    "version": 3
   },
   "file_extension": ".py",
   "mimetype": "text/x-python",
   "name": "python",
   "nbconvert_exporter": "python",
   "pygments_lexer": "ipython3",
   "version": "3.8.3"
  }
 },
 "nbformat": 4,
 "nbformat_minor": 4
}
